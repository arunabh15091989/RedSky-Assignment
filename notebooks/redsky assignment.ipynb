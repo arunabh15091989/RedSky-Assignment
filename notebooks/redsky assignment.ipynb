{
 "cells": [
  {
   "cell_type": "markdown",
   "metadata": {},
   "source": [
    "#### Q.1. \n",
    "sum(xi)1to10 = 10, xi can take 0,1 or 2\n",
    "How many unique solution this equation has? Each sequence of will be treated\n",
    "as a unique solution (ex : 0111111112, 1011111112 are two different\n",
    "solutions).\n",
    "Solve this using R/Matlab/Excel"
   ]
  },
  {
   "cell_type": "code",
   "execution_count": 26,
   "metadata": {
    "collapsed": true
   },
   "outputs": [],
   "source": [
    "import pandas as pd\n",
    "import numpy as np\n",
    "import math\n",
    "import itertools\n",
    "import datetime\n",
    "import os\n",
    "import matplotlib.pyplot as plt\n",
    "%matplotlib inline"
   ]
  },
  {
   "cell_type": "code",
   "execution_count": 27,
   "metadata": {},
   "outputs": [
    {
     "name": "stdout",
     "output_type": "stream",
     "text": [
      "8953\n"
     ]
    }
   ],
   "source": [
    "count = 0\n",
    "def perm(c0, c1, c2):\n",
    "    return (math.factorial(10)/(math.factorial(c0)*math.factorial(c1)*math.factorial(c2)))\n",
    "\n",
    "for c2 in range(6):\n",
    "    c1 = 10-2*c2\n",
    "    c0 = 10 - c1 - c2\n",
    "    count += perm(c2,c1,c0)\n",
    "\n",
    "print count"
   ]
  },
  {
   "cell_type": "markdown",
   "metadata": {},
   "source": [
    "#### Q.2. "
   ]
  },
  {
   "cell_type": "markdown",
   "metadata": {},
   "source": [
    "There are 10 different files in a folder named as Salary_YYYYMMDD.csv. All files\n",
    "contain same columns: Name, Salary. For example file Salary_20160101.csv will\n",
    "contain the salary of the employees for Jan’16, similarly Salary_20160229.csv will\n",
    "contain salary for Feb’16. Read all files from the folder and create one single csv\n",
    "file named Salary.csv which will contain the salary information across 10 months for\n",
    "all the employees.( column names will : employee; sal_jan; sal_feb;..... )"
   ]
  },
  {
   "cell_type": "code",
   "execution_count": 28,
   "metadata": {
    "collapsed": true
   },
   "outputs": [],
   "source": [
    "def salary(directory = './'):\n",
    "    all_files = []\n",
    "    salary_df = pd.DataFrame(columns = ['Name'])\n",
    "    directory = os.path.join(directory)\n",
    "    for root,dirs,files in os.walk(directory):\n",
    "        for file in files:\n",
    "            if file.endswith(\".csv\"):\n",
    "                f=open(file, 'r')\n",
    "                f.name\n",
    "                all_files.append(f.name.split('_')[1].split('.csv')[0])\n",
    "                f.close()\n",
    "    all_months = []\n",
    "    for date in all_files:\n",
    "        temp = datetime.datetime.strptime(date, '%Y%m%d')\n",
    "        all_months.append(temp.strftime('%B'))\n",
    "        \n",
    "    for i in range(len(all_files)):\n",
    "        df = pd.read_csv('./Salary_'+str(all_files[i])+'.csv')\n",
    "        df['Salary_'+all_months[i]] = df['Salary']\n",
    "        df.drop(['Salary'], axis = 1, inplace = True)\n",
    "        salary_df = pd.DataFrame.merge(salary_df, df, how=\"outer\")\n",
    "    salary_df.to_csv('./output.csv')   \n",
    "    return salary_df"
   ]
  },
  {
   "cell_type": "code",
   "execution_count": 6,
   "metadata": {},
   "outputs": [
    {
     "data": {
      "text/html": [
       "<div>\n",
       "<style>\n",
       "    .dataframe thead tr:only-child th {\n",
       "        text-align: right;\n",
       "    }\n",
       "\n",
       "    .dataframe thead th {\n",
       "        text-align: left;\n",
       "    }\n",
       "\n",
       "    .dataframe tbody tr th {\n",
       "        vertical-align: top;\n",
       "    }\n",
       "</style>\n",
       "<table border=\"1\" class=\"dataframe\">\n",
       "  <thead>\n",
       "    <tr style=\"text-align: right;\">\n",
       "      <th></th>\n",
       "      <th>Name</th>\n",
       "      <th>Salary_January</th>\n",
       "      <th>Salary_February</th>\n",
       "      <th>Salary_March</th>\n",
       "    </tr>\n",
       "  </thead>\n",
       "  <tbody>\n",
       "    <tr>\n",
       "      <th>0</th>\n",
       "      <td>alex</td>\n",
       "      <td>67</td>\n",
       "      <td>67</td>\n",
       "      <td>67</td>\n",
       "    </tr>\n",
       "    <tr>\n",
       "      <th>1</th>\n",
       "      <td>susan</td>\n",
       "      <td>60</td>\n",
       "      <td>100</td>\n",
       "      <td>80</td>\n",
       "    </tr>\n",
       "    <tr>\n",
       "      <th>2</th>\n",
       "      <td>mark</td>\n",
       "      <td>30</td>\n",
       "      <td>900</td>\n",
       "      <td>40</td>\n",
       "    </tr>\n",
       "  </tbody>\n",
       "</table>\n",
       "</div>"
      ],
      "text/plain": [
       "    Name  Salary_January  Salary_February  Salary_March\n",
       "0   alex              67               67            67\n",
       "1  susan              60              100            80\n",
       "2   mark              30              900            40"
      ]
     },
     "execution_count": 6,
     "metadata": {},
     "output_type": "execute_result"
    }
   ],
   "source": [
    "salary()"
   ]
  },
  {
   "cell_type": "markdown",
   "metadata": {},
   "source": [
    "#### Q3. Simulate a Brownian motion for 100 different paths.\n",
    "Assuming randomness of numbers is in a range say (-100 to 100)"
   ]
  },
  {
   "cell_type": "code",
   "execution_count": 29,
   "metadata": {},
   "outputs": [
    {
     "data": {
      "text/plain": [
       "<matplotlib.text.Text at 0x11a4e6310>"
      ]
     },
     "execution_count": 29,
     "metadata": {},
     "output_type": "execute_result"
    },
    {
     "data": {
      "image/png": "[encoded data removed]",
      "text/plain": [
       "<matplotlib.figure.Figure at 0x119f550d0>"
      ]
     },
     "metadata": {},
     "output_type": "display_data"
    }
   ],
   "source": [
    "def brownian_motion(x, y):\n",
    "    x_new = x + np.random.randint(-100, 100)\n",
    "    y_new = y + np.random.randint(-100, 100)\n",
    "    return x_new, y_new\n",
    "\n",
    "x_ls = []\n",
    "y_ls = []\n",
    "x, y = brownian_motion(np.random.randint(1,10), np.random.randint(1,10))\n",
    "for i in range(101):\n",
    "    x1, y1 = brownian_motion(x,y)\n",
    "    x_ls.append(x1)\n",
    "    y_ls.append(y1)\n",
    "    x,y = x1,y1\n",
    "    \n",
    "plt.plot(x_ls, y_ls, 'b-')\n",
    "plt.xlabel('X values')\n",
    "plt.ylabel('Y values')"
   ]
  },
  {
   "cell_type": "markdown",
   "metadata": {},
   "source": [
    "#### Q.4.\n",
    "A stock can move up by 1$ with probability .4, can go down by 1$ with probability\n",
    ".3 or can stay at the same price. Simulate the possible prices of the stock after 30\n",
    "days. Do this using 1000 simulation."
   ]
  },
  {
   "cell_type": "code",
   "execution_count": 30,
   "metadata": {
    "collapsed": true
   },
   "outputs": [],
   "source": [
    "def stock_movement(price):\n",
    "    movement = np.random.choice([1,-1,0], p =[0.4,0.3,0.3])\n",
    "    return price + movement"
   ]
  },
  {
   "cell_type": "code",
   "execution_count": 31,
   "metadata": {
    "collapsed": true
   },
   "outputs": [],
   "source": [
    "def monthly_movement(price=0):\n",
    "    for i in range(30):\n",
    "        price = stock_movement(price)\n",
    "    return price"
   ]
  },
  {
   "cell_type": "code",
   "execution_count": 32,
   "metadata": {},
   "outputs": [
    {
     "data": {
      "image/png": "[encoded data removed]",
      "text/plain": [
       "<matplotlib.figure.Figure at 0x119f1f710>"
      ]
     },
     "metadata": {},
     "output_type": "display_data"
    }
   ],
   "source": [
    "initial_price = 10\n",
    "possible_prices = []\n",
    "for i in range(1000):\n",
    "    possible_prices.append(monthly_movement(initial_price))\n",
    "plt.plot(np.arange(1000),possible_prices, 'b-')\n",
    "plt.xlabel('Iterations')\n",
    "plt.ylabel('30 day stock movements')\n",
    "plt.show()"
   ]
  },
  {
   "cell_type": "markdown",
   "metadata": {
    "collapsed": true
   },
   "source": [
    "#### Q.5.\n",
    "X = c(list(4,5), c(7,8))\n",
    "Y = c(list(4,5), list(7,8))\n",
    "Is X = Y?"
   ]
  },
  {
   "cell_type": "markdown",
   "metadata": {},
   "source": [
    "#### Answer: \n",
    "The two types of Data cannot be compared as R only allows comparison of similar data types. As Y is a vector of lists and X is a vector of a list and a vector, they are not exactly the same data types."
   ]
  },
  {
   "cell_type": "markdown",
   "metadata": {},
   "source": [
    "#### Q.6.\n",
    "How will you calculate the count of NA values in M x N data frame?"
   ]
  },
  {
   "cell_type": "markdown",
   "metadata": {},
   "source": [
    "#### Ans: \n",
    "Create a dummy dataframe with nan values and then use is null function to count the number of nans"
   ]
  },
  {
   "cell_type": "code",
   "execution_count": 33,
   "metadata": {},
   "outputs": [
    {
     "data": {
      "text/plain": [
       "a    1\n",
       "b    2\n",
       "dtype: int64"
      ]
     },
     "execution_count": 33,
     "metadata": {},
     "output_type": "execute_result"
    }
   ],
   "source": [
    "df = pd.DataFrame({'a':[1,2,np.nan], 'b':[np.nan,1,np.nan]})\n",
    "df.isnull().sum()"
   ]
  },
  {
   "cell_type": "code",
   "execution_count": null,
   "metadata": {
    "collapsed": true
   },
   "outputs": [],
   "source": []
  }
 ],
 "metadata": {
  "kernelspec": {
   "display_name": "Python 2",
   "language": "python",
   "name": "python2"
  },
  "language_info": {
   "codemirror_mode": {
    "name": "ipython",
    "version": 2
   },
   "file_extension": ".py",
   "mimetype": "text/x-python",
   "name": "python",
   "nbconvert_exporter": "python",
   "pygments_lexer": "ipython2",
   "version": "2.7.13"
  },
  "widgets": {
   "state": {},
   "version": "1.1.2"
  }
 },
 "nbformat": 4,
 "nbformat_minor": 2
}
